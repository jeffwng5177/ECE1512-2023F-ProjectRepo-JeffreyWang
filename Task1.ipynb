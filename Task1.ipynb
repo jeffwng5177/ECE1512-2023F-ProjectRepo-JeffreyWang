{
  "cells": [
    {
      "cell_type": "markdown",
      "metadata": {
        "id": "view-in-github",
        "colab_type": "text"
      },
      "source": [
        "<a href=\"https://colab.research.google.com/github/jeffwng5177/ECE1512-2023F-ProjectRepo-JeffreyWang/blob/main/Task1.ipynb\" target=\"_parent\"><img src=\"https://colab.research.google.com/assets/colab-badge.svg\" alt=\"Open In Colab\"/></a>"
      ]
    },
    {
      "cell_type": "markdown",
      "metadata": {
        "id": "6WYMfvCNPwpm"
      },
      "source": [
        "# Project A: Knowledge Distillation for Building Lightweight Deep Learning Models in Visual Classification Tasks"
      ]
    },
    {
      "cell_type": "code",
      "execution_count": 3,
      "metadata": {
        "id": "vA8ppgB2P0aJ"
      },
      "outputs": [],
      "source": [
        "import tensorflow.compat.v2 as tf\n",
        "import tensorflow_datasets as tfds\n",
        "from typing import Union\n",
        "\n",
        "tf.enable_v2_behavior()\n",
        "\n",
        "builder = tfds.builder('mnist')\n",
        "BATCH_SIZE = 256\n",
        "NUM_EPOCHS = 12\n",
        "NUM_CLASSES = 10  # 10 total classes."
      ]
    },
    {
      "cell_type": "markdown",
      "metadata": {
        "id": "H2EFLQROP2R7"
      },
      "source": [
        "# Data loading"
      ]
    },
    {
      "cell_type": "code",
      "execution_count": 4,
      "metadata": {
        "id": "ynByMG_UP4A4",
        "colab": {
          "base_uri": "https://localhost:8080/",
          "height": 84,
          "referenced_widgets": [
            "657e0253567b422387888931def5d2eb",
            "fcc096861ba74ac5a166f38019481258",
            "5aed27258fcd4ed784025134fac8ae29",
            "fa051a7431d445c38145c5ee6c7e5a35",
            "93c96546f59249b99a25333a1c06014b",
            "1e9a7b30f86f4d918020c3b1909c62a5",
            "8e62a4e0fbad45cabaa2480c4a3155d0",
            "fd1204bd33994f92ba82b6fec574e317",
            "7e9a4bc531234cda8e3686d33e9c8f25",
            "f43733a2b64646ffa595af8543790919",
            "e530a9d79e5740f7b1c24a22aa548772"
          ]
        },
        "outputId": "682b652f-616b-4e3c-f145-0c94e6639754"
      },
      "outputs": [
        {
          "output_type": "stream",
          "name": "stdout",
          "text": [
            "Downloading and preparing dataset 11.06 MiB (download: 11.06 MiB, generated: 21.00 MiB, total: 32.06 MiB) to /root/tensorflow_datasets/mnist/3.0.1...\n"
          ]
        },
        {
          "output_type": "display_data",
          "data": {
            "text/plain": [
              "Dl Completed...:   0%|          | 0/5 [00:00<?, ? file/s]"
            ],
            "application/vnd.jupyter.widget-view+json": {
              "version_major": 2,
              "version_minor": 0,
              "model_id": "657e0253567b422387888931def5d2eb"
            }
          },
          "metadata": {}
        },
        {
          "output_type": "stream",
          "name": "stdout",
          "text": [
            "Dataset mnist downloaded and prepared to /root/tensorflow_datasets/mnist/3.0.1. Subsequent calls will reuse this data.\n"
          ]
        }
      ],
      "source": [
        "# Load train and test splits.\n",
        "def preprocess(x):\n",
        "  image = tf.image.convert_image_dtype(x['image'], tf.float32)\n",
        "  subclass_labels = tf.one_hot(x['label'], builder.info.features['label'].num_classes)\n",
        "  return image, subclass_labels\n",
        "\n",
        "\n",
        "mnist_train = tfds.load('mnist', split='train', shuffle_files=False).cache()\n",
        "mnist_train = mnist_train.map(preprocess)\n",
        "mnist_train = mnist_train.shuffle(builder.info.splits['train'].num_examples)\n",
        "mnist_train = mnist_train.batch(BATCH_SIZE, drop_remainder=True)\n",
        "\n",
        "mnist_test = tfds.load('mnist', split='test').cache()\n",
        "mnist_test = mnist_test.map(preprocess).batch(BATCH_SIZE)"
      ]
    },
    {
      "cell_type": "markdown",
      "metadata": {
        "id": "kAZwfvW5P63q"
      },
      "source": [
        "# Model creation"
      ]
    },
    {
      "cell_type": "code",
      "execution_count": 6,
      "metadata": {
        "id": "zINgDkA7P7BP",
        "colab": {
          "base_uri": "https://localhost:8080/"
        },
        "outputId": "345727b5-f3e1-44ca-977f-ed69b289efd7"
      },
      "outputs": [
        {
          "output_type": "stream",
          "name": "stdout",
          "text": [
            "Model: \"sequential_1\"\n",
            "_________________________________________________________________\n",
            " Layer (type)                Output Shape              Param #   \n",
            "=================================================================\n",
            " conv2d_1 (Conv2D)           (None, 28, 28, 32)        320       \n",
            "                                                                 \n",
            " max_pooling2d (MaxPooling2  (None, 27, 27, 32)        0         \n",
            " D)                                                              \n",
            "                                                                 \n",
            " conv2d_2 (Conv2D)           (None, 27, 27, 64)        18496     \n",
            "                                                                 \n",
            " max_pooling2d_1 (MaxPoolin  (None, 13, 13, 64)        0         \n",
            " g2D)                                                            \n",
            "                                                                 \n",
            " flatten (Flatten)           (None, 10816)             0         \n",
            "                                                                 \n",
            " dropout (Dropout)           (None, 10816)             0         \n",
            "                                                                 \n",
            " dense (Dense)               (None, 128)               1384576   \n",
            "                                                                 \n",
            " dropout_1 (Dropout)         (None, 128)               0         \n",
            "                                                                 \n",
            " dense_1 (Dense)             (None, 10)                1290      \n",
            "                                                                 \n",
            "=================================================================\n",
            "Total params: 1404682 (5.36 MB)\n",
            "Trainable params: 1404682 (5.36 MB)\n",
            "Non-trainable params: 0 (0.00 Byte)\n",
            "_________________________________________________________________\n",
            "Model: \"sequential_2\"\n",
            "_________________________________________________________________\n",
            " Layer (type)                Output Shape              Param #   \n",
            "=================================================================\n",
            " flatten_1 (Flatten)         (None, 784)               0         \n",
            "                                                                 \n",
            " dense_2 (Dense)             (None, 784)               615440    \n",
            "                                                                 \n",
            " dense_3 (Dense)             (None, 784)               615440    \n",
            "                                                                 \n",
            " dense_4 (Dense)             (None, 10)                7850      \n",
            "                                                                 \n",
            "=================================================================\n",
            "Total params: 1238730 (4.73 MB)\n",
            "Trainable params: 1238730 (4.73 MB)\n",
            "Non-trainable params: 0 (0.00 Byte)\n",
            "_________________________________________________________________\n"
          ]
        }
      ],
      "source": [
        "# test {\"output\": \"ignore\"}\n",
        "\n",
        "# Build CNN teacher.\n",
        "cnn_model = tf.keras.Sequential()\n",
        "\n",
        "# your code start from here for stpe 2\n",
        "#add conv 3x3 chnl 32\n",
        "cnn_model.add(tf.keras.layers.Conv2D(32,(3,3), strides=(1, 1), padding=\"same\", activation='relu', input_shape=(28,28,1)))\n",
        "#add pooling stride 1\n",
        "cnn_model.add(tf.keras.layers.MaxPool2D(pool_size=(2, 2), strides=1))\n",
        "#add conv 3x3 chnl 64\n",
        "cnn_model.add(tf.keras.layers.Conv2D(64,(3,3), strides=(1, 1), padding=\"same\", activation='relu'))\n",
        "#add pooling stride 2\n",
        "cnn_model.add(tf.keras.layers.MaxPool2D(pool_size=(2, 2), strides=2))\n",
        "#add flatten\n",
        "cnn_model.add(tf.keras.layers.Flatten())\n",
        "# add dropout rate\n",
        "cnn_model.add(tf.keras.layers.Dropout(0.5))\n",
        "#add dense layer 128\n",
        "cnn_model.add(tf.keras.layers.Dense(128, activation='relu'))\n",
        "#add dropout rate\n",
        "cnn_model.add(tf.keras.layers.Dropout(0.5))\n",
        "#add output layer\n",
        "cnn_model.add(tf.keras.layers.Dense(10))\n",
        "cnn_model.summary()\n",
        "\n",
        "\n",
        "# Build fully connected student.\n",
        "fc_model = tf.keras.Sequential()\n",
        "\n",
        "# your code start from here for step 2\n",
        "\n",
        "fc_model.add(tf.keras.layers.Flatten(input_shape=(28,28,1)))\n",
        "fc_model.add(tf.keras.layers.Dense(784, activation='relu'))\n",
        "fc_model.add(tf.keras.layers.Dense(784, activation='relu'))\n",
        "#ad output layer\n",
        "fc_model.add(tf.keras.layers.Dense(10))\n",
        "fc_model.summary()\n",
        "\n"
      ]
    },
    {
      "cell_type": "markdown",
      "metadata": {
        "id": "8JWGucyrQGav"
      },
      "source": [
        "# Teacher loss function"
      ]
    },
    {
      "cell_type": "code",
      "execution_count": 10,
      "metadata": {
        "id": "DhzBP6ZLQJ57"
      },
      "outputs": [],
      "source": [
        "@tf.function\n",
        "def compute_teacher_loss(images, labels):\n",
        "  \"\"\"Compute subclass knowledge distillation teacher loss for given images\n",
        "     and labels.\n",
        "\n",
        "  Args:\n",
        "    images: Tensor representing a batch of images.\n",
        "    labels: Tensor representing a batch of labels.\n",
        "\n",
        "  Returns:\n",
        "    Scalar loss Tensor.\n",
        "  \"\"\"\n",
        "  subclass_logits = cnn_model(images, training=True)\n",
        "\n",
        "  # Compute cross-entropy loss for subclasses.\n",
        "\n",
        "  # your code start from here for step 3\n",
        "  cross_entropy_loss_value = tf.nn.softmax_cross_entropy_with_logits(labels=labels, logits=subclass_logits)\n",
        "\n",
        "\n",
        "  return cross_entropy_loss_value"
      ]
    },
    {
      "cell_type": "markdown",
      "metadata": {
        "id": "JS8xkuH0QbOS"
      },
      "source": [
        "# Student loss function"
      ]
    },
    {
      "cell_type": "code",
      "execution_count": 11,
      "metadata": {
        "id": "lDKia4gPQMIr"
      },
      "outputs": [],
      "source": [
        "# test {\"output\": \"ignore\"}\n",
        "\n",
        "# Hyperparameters for distillation (need to be tuned).\n",
        "ALPHA = 0.5 # task balance between cross-entropy and distillation loss\n",
        "DISTILLATION_TEMPERATURE = 4. #temperature hyperparameter\n",
        "\n",
        "def distillation_loss(teacher_logits: tf.Tensor, student_logits: tf.Tensor,\n",
        "                      temperature: Union[float, tf.Tensor]):\n",
        "  \"\"\"Compute distillation loss.\n",
        "\n",
        "  This function computes cross entropy between softened logits and softened\n",
        "  targets. The resulting loss is scaled by the squared temperature so that\n",
        "  the gradient magnitude remains approximately constant as the temperature is\n",
        "  changed. For reference, see Hinton et al., 2014, \"Distilling the knowledge in\n",
        "  a neural network.\"\n",
        "\n",
        "  Args:\n",
        "    teacher_logits: A Tensor of logits provided by the teacher.\n",
        "    student_logits: A Tensor of logits provided by the student, of the same\n",
        "      shape as `teacher_logits`.\n",
        "    temperature: Temperature to use for distillation.\n",
        "\n",
        "  Returns:\n",
        "    A scalar Tensor containing the distillation loss.\n",
        "  \"\"\"\n",
        " # your code start from here for step 3\n",
        "  soft_targets = tf.nn.softmax(teacher_logits / temperature)\n",
        "\n",
        "  return tf.reduce_mean(\n",
        "      tf.nn.softmax_cross_entropy_with_logits(\n",
        "          soft_targets, student_logits / temperature)) * temperature ** 2\n",
        "\n",
        "def compute_student_loss(images, labels):\n",
        "  \"\"\"Compute subclass knowledge distillation student loss for given images\n",
        "     and labels.\n",
        "\n",
        "  Args:\n",
        "    images: Tensor representing a batch of images.\n",
        "    labels: Tensor representing a batch of labels.\n",
        "\n",
        "  Returns:\n",
        "    Scalar loss Tensor.\n",
        "  \"\"\"\n",
        "  student_subclass_logits = fc_model(images, training=True)\n",
        "\n",
        "  # Compute subclass distillation loss between student subclass logits and\n",
        "  # softened teacher subclass targets probabilities.\n",
        "\n",
        "  # your code start from here for step 3\n",
        "\n",
        "  teacher_subclass_logits = cnn_model(images, training=False)\n",
        "  distillation_loss_value = distillation_loss(teacher_subclass_logits,student_subclass_logits,DISTILLATION_TEMPERATURE)\n",
        "\n",
        "  # Compute cross-entropy loss with hard targets.\n",
        "\n",
        "  # your code start from here for step 3\n",
        "\n",
        "  cross_entropy_loss_value = tf.keras.losses.categorical_crossentropy(labels, student_subclass_logits, from_logits=True)\n",
        "\n",
        "  loss= ALPHA * distillation_loss_value + (1-ALPHA) * cross_entropy_loss_value\n",
        "\n",
        "  return loss\n"
      ]
    },
    {
      "cell_type": "markdown",
      "metadata": {
        "id": "RJ1uyvurQ3w4"
      },
      "source": [
        "# Train and evaluation"
      ]
    },
    {
      "cell_type": "code",
      "execution_count": 12,
      "metadata": {
        "id": "EtoLbp8uQ4Vl"
      },
      "outputs": [],
      "source": [
        "@tf.function\n",
        "def compute_num_correct(model, images, labels):\n",
        "  \"\"\"Compute number of correctly classified images in a batch.\n",
        "\n",
        "  Args:\n",
        "    model: Instance of tf.keras.Model.\n",
        "    images: Tensor representing a batch of images.\n",
        "    labels: Tensor representing a batch of labels.\n",
        "\n",
        "  Returns:\n",
        "    Number of correctly classified images.\n",
        "  \"\"\"\n",
        "  class_logits = model(images, training=False)\n",
        "  return tf.reduce_sum(\n",
        "      tf.cast(tf.math.equal(tf.argmax(class_logits, -1), tf.argmax(labels, -1)),\n",
        "              tf.float32)), tf.argmax(class_logits, -1), tf.argmax(labels, -1)\n",
        "\n",
        "\n",
        "def train_and_evaluate(model, compute_loss_fn):\n",
        "  \"\"\"Perform training and evaluation for a given model.\n",
        "\n",
        "  Args:\n",
        "    model: Instance of tf.keras.Model.\n",
        "    compute_loss_fn: A function that computes the training loss given the\n",
        "      images, and labels.\n",
        "  \"\"\"\n",
        "\n",
        "  # your code start from here for step 4\n",
        "  optimizer = tf.optimizers.Adam(learning_rate=0.001)\n",
        "  import time\n",
        "  accuracy_matrix={}\n",
        "  time_matrix=[]\n",
        "\n",
        "  for epoch in range(1, NUM_EPOCHS + 1):\n",
        "    start_time = time.time()\n",
        "    # Run training.\n",
        "    print('Epoch {}: '.format(epoch), end='')\n",
        "    for images, labels in mnist_train:\n",
        "      with tf.GradientTape() as tape:\n",
        "         # your code start from here for step 4\n",
        "\n",
        "        loss_value = compute_loss_fn(images,labels)\n",
        "\n",
        "      grads = tape.gradient(loss_value, model.trainable_variables)\n",
        "      optimizer.apply_gradients(zip(grads, model.trainable_variables))\n",
        "\n",
        "    # Run evaluation.\n",
        "    num_correct = 0\n",
        "    num_total = builder.info.splits['test'].num_examples\n",
        "    for images, labels in mnist_test:\n",
        "      # your code start from here for step 4\n",
        "      num,a, b = compute_num_correct(model, images, labels)\n",
        "      num_correct += num\n",
        "    print(\"Class_accuracy: \" + '{:.2f}%'.format(\n",
        "        num_correct / num_total * 100))\n",
        "\n",
        "    accuracy_matrix.update({\"Student Accuracy\": num_correct / num_total * 100})\n",
        "    epoch_time = time.time() - start_time\n",
        "    time_matrix.append(epoch_time)\n",
        "    print(\"Total time per epoch: {0:.2f} seconds\".format(epoch_time))\n",
        "    total_time = np.sum(time_matrix)\n",
        "    print(\"Total time of training this model: {0:.2f} seconds\".format(total_time))\n",
        "    return accuracy_matrix"
      ]
    },
    {
      "cell_type": "markdown",
      "metadata": {
        "id": "NQL1lJdaRPT1"
      },
      "source": [
        "# Training models"
      ]
    },
    {
      "cell_type": "code",
      "execution_count": 13,
      "metadata": {
        "id": "-AGHbyABRPz3",
        "colab": {
          "base_uri": "https://localhost:8080/"
        },
        "outputId": "7b697c8f-2846-4bb6-c923-80225554f2f2"
      },
      "outputs": [
        {
          "output_type": "stream",
          "name": "stdout",
          "text": [
            "Epoch 1: "
          ]
        },
        {
          "output_type": "stream",
          "name": "stderr",
          "text": [
            "WARNING:tensorflow:5 out of the last 5 calls to <function _BaseOptimizer._update_step_xla at 0x7d5e1c1eeb00> triggered tf.function retracing. Tracing is expensive and the excessive number of tracings could be due to (1) creating @tf.function repeatedly in a loop, (2) passing tensors with different shapes, (3) passing Python objects instead of tensors. For (1), please define your @tf.function outside of the loop. For (2), @tf.function has reduce_retracing=True option that can avoid unnecessary retracing. For (3), please refer to https://www.tensorflow.org/guide/function#controlling_retracing and https://www.tensorflow.org/api_docs/python/tf/function for  more details.\n",
            "WARNING:tensorflow:6 out of the last 6 calls to <function _BaseOptimizer._update_step_xla at 0x7d5e1c1eeb00> triggered tf.function retracing. Tracing is expensive and the excessive number of tracings could be due to (1) creating @tf.function repeatedly in a loop, (2) passing tensors with different shapes, (3) passing Python objects instead of tensors. For (1), please define your @tf.function outside of the loop. For (2), @tf.function has reduce_retracing=True option that can avoid unnecessary retracing. For (3), please refer to https://www.tensorflow.org/guide/function#controlling_retracing and https://www.tensorflow.org/api_docs/python/tf/function for  more details.\n"
          ]
        },
        {
          "output_type": "stream",
          "name": "stdout",
          "text": [
            "Class_accuracy: 98.05%\n",
            "Total time per epoch: 20.69 seconds\n",
            "Total time of training this model: 20.69 seconds\n",
            "Epoch 1: Class_accuracy: 96.87%\n",
            "Total time per epoch: 10.87 seconds\n",
            "Total time of training this model: 10.87 seconds\n"
          ]
        }
      ],
      "source": [
        "# your code start from here for step 5\n",
        "import numpy as np\n",
        "# train Teacher and Student model using training dataset\n",
        "ALPHA=0.5\n",
        "DISTILLATION_TEMPERATURE = 4\n",
        "\n",
        "# train and evaluate Teacher model\n",
        "teacher_matrix = train_and_evaluate(cnn_model, compute_teacher_loss)\n",
        "#99.24%\n",
        "\n",
        "# train and evaluate Student model\n",
        "matrix = train_and_evaluate(fc_model, compute_student_loss)\n",
        "#98.84%\n"
      ]
    },
    {
      "cell_type": "markdown",
      "metadata": {
        "id": "sj1N38fnRTNB"
      },
      "source": [
        "# Test accuracy vs. tempreture curve"
      ]
    },
    {
      "cell_type": "code",
      "execution_count": 13,
      "metadata": {
        "id": "gX4dbazrRWIz",
        "colab": {
          "base_uri": "https://localhost:8080/",
          "height": 1000
        },
        "outputId": "28e9a5de-e0ab-4b6d-d5b6-3e034028dede"
      },
      "outputs": [
        {
          "output_type": "stream",
          "name": "stdout",
          "text": [
            "Epoch 1: Class_accuracy: 96.77%\n",
            "Total time per epoch: 20.34 seconds\n",
            "Total time of training this model: 20.34 seconds\n",
            "Epoch 1: Class_accuracy: 96.97%\n",
            "Total time per epoch: 11.08 seconds\n",
            "Total time of training this model: 11.08 seconds\n",
            "Epoch 1: Class_accuracy: 96.91%\n",
            "Total time per epoch: 10.80 seconds\n",
            "Total time of training this model: 10.80 seconds\n",
            "Epoch 1: Class_accuracy: 96.50%\n",
            "Total time per epoch: 10.87 seconds\n",
            "Total time of training this model: 10.87 seconds\n",
            "Epoch 1: Class_accuracy: 96.21%\n",
            "Total time per epoch: 10.92 seconds\n",
            "Total time of training this model: 10.92 seconds\n",
            "Epoch 1: Class_accuracy: 96.45%\n",
            "Total time per epoch: 10.97 seconds\n",
            "Total time of training this model: 10.97 seconds\n",
            "Epoch 1: Class_accuracy: 96.74%\n",
            "Total time per epoch: 10.78 seconds\n",
            "Total time of training this model: 10.78 seconds\n",
            "Epoch 1: Class_accuracy: 96.83%\n",
            "Total time per epoch: 11.51 seconds\n",
            "Total time of training this model: 11.51 seconds\n",
            "Epoch 1: Class_accuracy: 96.90%\n",
            "Total time per epoch: 10.86 seconds\n",
            "Total time of training this model: 10.86 seconds\n",
            "Epoch 1: Class_accuracy: 97.08%\n",
            "Total time per epoch: 11.02 seconds\n",
            "Total time of training this model: 11.02 seconds\n",
            "Epoch 1: Class_accuracy: 97.14%\n",
            "Total time per epoch: 11.46 seconds\n",
            "Total time of training this model: 11.46 seconds\n",
            "Epoch 1: Class_accuracy: 97.26%\n",
            "Total time per epoch: 11.25 seconds\n",
            "Total time of training this model: 11.25 seconds\n",
            "Epoch 1: Class_accuracy: 97.20%\n",
            "Total time per epoch: 12.25 seconds\n",
            "Total time of training this model: 12.25 seconds\n",
            "Epoch 1: Class_accuracy: 96.70%\n",
            "Total time per epoch: 11.02 seconds\n",
            "Total time of training this model: 11.02 seconds\n",
            "Epoch 1: Class_accuracy: 96.95%\n",
            "Total time per epoch: 10.83 seconds\n",
            "Total time of training this model: 10.83 seconds\n",
            "Epoch 1: Class_accuracy: 96.81%\n",
            "Total time per epoch: 10.95 seconds\n",
            "Total time of training this model: 10.95 seconds\n",
            "Epoch 1: Class_accuracy: 97.08%\n",
            "Total time per epoch: 11.10 seconds\n",
            "Total time of training this model: 11.10 seconds\n",
            "Epoch 1: Class_accuracy: 96.97%\n",
            "Total time per epoch: 10.92 seconds\n",
            "Total time of training this model: 10.92 seconds\n",
            "Epoch 1: Class_accuracy: 96.66%\n",
            "Total time per epoch: 10.62 seconds\n",
            "Total time of training this model: 10.62 seconds\n",
            "Epoch 1: Class_accuracy: 96.52%\n",
            "Total time per epoch: 10.84 seconds\n",
            "Total time of training this model: 10.84 seconds\n",
            "Epoch 1: Class_accuracy: 96.86%\n",
            "Total time per epoch: 20.97 seconds\n",
            "Total time of training this model: 20.97 seconds\n",
            "Epoch 1: Class_accuracy: 96.86%\n",
            "Total time per epoch: 11.26 seconds\n",
            "Total time of training this model: 11.26 seconds\n",
            "Epoch 1: Class_accuracy: 96.75%\n",
            "Total time per epoch: 20.86 seconds\n",
            "Total time of training this model: 20.86 seconds\n",
            "Epoch 1: Class_accuracy: 96.63%\n",
            "Total time per epoch: 11.05 seconds\n",
            "Total time of training this model: 11.05 seconds\n",
            "Epoch 1: Class_accuracy: 96.78%\n",
            "Total time per epoch: 10.59 seconds\n",
            "Total time of training this model: 10.59 seconds\n",
            "Epoch 1: Class_accuracy: 96.85%\n",
            "Total time per epoch: 10.74 seconds\n",
            "Total time of training this model: 10.74 seconds\n",
            "Epoch 1: Class_accuracy: 96.68%\n",
            "Total time per epoch: 10.75 seconds\n",
            "Total time of training this model: 10.75 seconds\n",
            "Epoch 1: Class_accuracy: 96.59%\n",
            "Total time per epoch: 11.02 seconds\n",
            "Total time of training this model: 11.02 seconds\n",
            "Epoch 1: Class_accuracy: 96.66%\n",
            "Total time per epoch: 10.90 seconds\n",
            "Total time of training this model: 10.90 seconds\n",
            "Epoch 1: Class_accuracy: 96.76%\n",
            "Total time per epoch: 10.19 seconds\n",
            "Total time of training this model: 10.19 seconds\n"
          ]
        },
        {
          "output_type": "display_data",
          "data": {
            "text/plain": [
              "<Figure size 800x800 with 1 Axes>"
            ],
            "image/png": "[encoded data removed]"
          },
          "metadata": {}
        }
      ],
      "source": [
        "# your code start from here for step 6\n",
        "import matplotlib.pyplot as plt\n",
        "\n",
        "\n",
        "Temperatures = [1,2,4,16,32,64]\n",
        "ALPHAS=[0, 0.2, 0.5, 0.8, 1]\n",
        "student_accuracy_matrixes = {}\n",
        "for a in ALPHAS:\n",
        "  ALPHA = a\n",
        "  accracy_among_t = []\n",
        "  for t in Temperatures:\n",
        "    DISTILLATION_TEMPERATURE = t\n",
        "    tf.keras.backend.clear_session()\n",
        "    fc_model = tf.keras.models.clone_model(fc_model)\n",
        "    matrix = train_and_evaluate(fc_model, compute_student_loss)\n",
        "    accracy_among_t.append(matrix.get('Student Accuracy').numpy())\n",
        "  student_accuracy_matrixes[ALPHA] =  accracy_among_t\n",
        "\n",
        "\n",
        "acc_0 = student_accuracy_matrixes.get(ALPHAS[0])\n",
        "acc_1 = student_accuracy_matrixes.get(ALPHAS[1])\n",
        "acc_2 = student_accuracy_matrixes.get(ALPHAS[2])\n",
        "acc_3 = student_accuracy_matrixes.get(ALPHAS[3])\n",
        "acc_4 = student_accuracy_matrixes.get(ALPHAS[4])\n",
        "\n",
        "plt.figure(figsize=(8, 8))\n",
        "plt.title('Student test accracy vs temperature')\n",
        "plt.xlabel('temperature')\n",
        "plt.ylabel('Student Accuracy')\n",
        "xi = list(range(len(Temperatures)))\n",
        "\n",
        "plt.plot(acc_0,linestyle='-', marker='o', label='Student Accuracy with ALPHA = 0')\n",
        "plt.plot(acc_1,linestyle='-', marker='o', label='Student Accuracy with ALPHA = 0.2')\n",
        "plt.plot(acc_2,linestyle='-', marker='o', label='Student Accuracy with ALPHA = 0.5')\n",
        "plt.plot(acc_3,linestyle='-', marker='o', label='Student Accuracy with ALPHA = 0.8')\n",
        "plt.plot(acc_4,linestyle='-', marker='o', label='Student Accuracy with ALPHA = 1')\n",
        "\n",
        "plt.xticks(xi, Temperatures)\n",
        "plt.legend(loc='lower right')\n",
        "# plt.savefig('/content/images_minist/accuracyVStemperatures.png')\n",
        "plt.show()"
      ]
    },
    {
      "cell_type": "markdown",
      "metadata": {
        "id": "WNrH_1emRbGA"
      },
      "source": [
        "# Train student from scratch"
      ]
    },
    {
      "cell_type": "code",
      "execution_count": 20,
      "metadata": {
        "id": "HjospsxIRbQ6",
        "colab": {
          "base_uri": "https://localhost:8080/"
        },
        "outputId": "1fb1b119-a4b8-4bb9-f91f-2a86c2638725"
      },
      "outputs": [
        {
          "output_type": "stream",
          "name": "stdout",
          "text": [
            "Model: \"sequential_2\"\n",
            "_________________________________________________________________\n",
            " Layer (type)                Output Shape              Param #   \n",
            "=================================================================\n",
            " flatten_2 (Flatten)         (None, 784)               0         \n",
            "                                                                 \n",
            " dense_6 (Dense)             (None, 784)               615440    \n",
            "                                                                 \n",
            " dense_7 (Dense)             (None, 784)               615440    \n",
            "                                                                 \n",
            " dense_8 (Dense)             (None, 10)                7850      \n",
            "                                                                 \n",
            "=================================================================\n",
            "Total params: 1238730 (4.73 MB)\n",
            "Trainable params: 1238730 (4.73 MB)\n",
            "Non-trainable params: 0 (0.00 Byte)\n",
            "_________________________________________________________________\n",
            "Epoch 1: Class_accuracy: 96.95%\n",
            "Total time per epoch: 10.86 seconds\n",
            "Total time of training this model: 10.86 seconds\n"
          ]
        },
        {
          "output_type": "execute_result",
          "data": {
            "text/plain": [
              "{'Student Accuracy': <tf.Tensor: shape=(), dtype=float32, numpy=96.95>}"
            ]
          },
          "metadata": {},
          "execution_count": 20
        }
      ],
      "source": [
        "# Build fully connected student.\n",
        "fc_model_no_distillation = tf.keras.Sequential()\n",
        "\n",
        "# your code start from here for step 7\n",
        "fc_model_no_distillation.add(tf.keras.layers.Flatten(input_shape=(28,28,1)))\n",
        "fc_model_no_distillation.add(tf.keras.layers.Dense(784, activation='relu'))\n",
        "fc_model_no_distillation.add(tf.keras.layers.Dense(784, activation='relu'))\n",
        "fc_model_no_distillation.add(tf.keras.layers.Dense(10))\n",
        "fc_model_no_distillation.summary()\n",
        "\n",
        "\n",
        "# test {\"output\": \"ignore\"}\n",
        "\n",
        "def compute_plain_cross_entropy_loss(images, labels):\n",
        "  \"\"\"Compute plain loss for given images and labels.\n",
        "\n",
        "  For fair comparison and convenience, this function also performs a\n",
        "  LogSumExp over subclasses, but does not perform subclass distillation.\n",
        "\n",
        "  Args:\n",
        "    images: Tensor representing a batch of images.\n",
        "    labels: Tensor representing a batch of labels.\n",
        "\n",
        "  Returns:\n",
        "    Scalar loss Tensor.\n",
        "  \"\"\"\n",
        "  # your code start from here for step 7\n",
        "\n",
        "  student_subclass_logits = fc_model_no_distillation(images, training=True)\n",
        "  cross_entropy_loss = tf.nn.softmax_cross_entropy_with_logits(labels=labels, logits=student_subclass_logits)\n",
        "\n",
        "  return cross_entropy_loss\n",
        "\n",
        "\n",
        "train_and_evaluate(fc_model_no_distillation, compute_plain_cross_entropy_loss)"
      ]
    },
    {
      "cell_type": "markdown",
      "metadata": {
        "id": "yq3JTpQ4RuhR"
      },
      "source": [
        "# Comparing the teacher and student model (number of of parameters and FLOPs)"
      ]
    },
    {
      "cell_type": "code",
      "execution_count": 25,
      "metadata": {
        "id": "4V8GB2yRRuxF"
      },
      "outputs": [],
      "source": [
        "# your code start from here for step 8\n",
        "\n"
      ]
    },
    {
      "cell_type": "markdown",
      "metadata": {
        "id": "KjwJ5oziRvRn"
      },
      "source": [
        "# Implementing the state-of-the-art KD algorithm"
      ]
    },
    {
      "cell_type": "code",
      "execution_count": null,
      "metadata": {
        "id": "q10lybAFRvZt"
      },
      "outputs": [],
      "source": [
        "# your code start from here for step 12\n"
      ]
    },
    {
      "cell_type": "markdown",
      "metadata": {
        "id": "6dsOmtqdieIC"
      },
      "source": [
        "# XAI method to explain models"
      ]
    },
    {
      "cell_type": "code",
      "execution_count": null,
      "metadata": {
        "id": "X0IMIFW8ilPO"
      },
      "outputs": [],
      "source": [
        "# your code start from here for step 13\n"
      ]
    }
  ],
  "metadata": {
    "colab": {
      "provenance": [],
      "gpuType": "T4",
      "include_colab_link": true
    },
    "kernelspec": {
      "display_name": "Python 3",
      "name": "python3"
    },
    "language_info": {
      "name": "python"
    },
    "accelerator": "GPU",
    "widgets": {
      "application/vnd.jupyter.widget-state+json": {
        "657e0253567b422387888931def5d2eb": {
          "model_module": "@jupyter-widgets/controls",
          "model_name": "HBoxModel",
          "model_module_version": "1.5.0",
          "state": {
            "_dom_classes": [],
            "_model_module": "@jupyter-widgets/controls",
            "_model_module_version": "1.5.0",
            "_model_name": "HBoxModel",
            "_view_count": null,
            "_view_module": "@jupyter-widgets/controls",
            "_view_module_version": "1.5.0",
            "_view_name": "HBoxView",
            "box_style": "",
            "children": [
              "IPY_MODEL_fcc096861ba74ac5a166f38019481258",
              "IPY_MODEL_5aed27258fcd4ed784025134fac8ae29",
              "IPY_MODEL_fa051a7431d445c38145c5ee6c7e5a35"
            ],
            "layout": "IPY_MODEL_93c96546f59249b99a25333a1c06014b"
          }
        },
        "fcc096861ba74ac5a166f38019481258": {
          "model_module": "@jupyter-widgets/controls",
          "model_name": "HTMLModel",
          "model_module_version": "1.5.0",
          "state": {
            "_dom_classes": [],
            "_model_module": "@jupyter-widgets/controls",
            "_model_module_version": "1.5.0",
            "_model_name": "HTMLModel",
            "_view_count": null,
            "_view_module": "@jupyter-widgets/controls",
            "_view_module_version": "1.5.0",
            "_view_name": "HTMLView",
            "description": "",
            "description_tooltip": null,
            "layout": "IPY_MODEL_1e9a7b30f86f4d918020c3b1909c62a5",
            "placeholder": "​",
            "style": "IPY_MODEL_8e62a4e0fbad45cabaa2480c4a3155d0",
            "value": "Dl Completed...: 100%"
          }
        },
        "5aed27258fcd4ed784025134fac8ae29": {
          "model_module": "@jupyter-widgets/controls",
          "model_name": "FloatProgressModel",
          "model_module_version": "1.5.0",
          "state": {
            "_dom_classes": [],
            "_model_module": "@jupyter-widgets/controls",
            "_model_module_version": "1.5.0",
            "_model_name": "FloatProgressModel",
            "_view_count": null,
            "_view_module": "@jupyter-widgets/controls",
            "_view_module_version": "1.5.0",
            "_view_name": "ProgressView",
            "bar_style": "success",
            "description": "",
            "description_tooltip": null,
            "layout": "IPY_MODEL_fd1204bd33994f92ba82b6fec574e317",
            "max": 5,
            "min": 0,
            "orientation": "horizontal",
            "style": "IPY_MODEL_7e9a4bc531234cda8e3686d33e9c8f25",
            "value": 5
          }
        },
        "fa051a7431d445c38145c5ee6c7e5a35": {
          "model_module": "@jupyter-widgets/controls",
          "model_name": "HTMLModel",
          "model_module_version": "1.5.0",
          "state": {
            "_dom_classes": [],
            "_model_module": "@jupyter-widgets/controls",
            "_model_module_version": "1.5.0",
            "_model_name": "HTMLModel",
            "_view_count": null,
            "_view_module": "@jupyter-widgets/controls",
            "_view_module_version": "1.5.0",
            "_view_name": "HTMLView",
            "description": "",
            "description_tooltip": null,
            "layout": "IPY_MODEL_f43733a2b64646ffa595af8543790919",
            "placeholder": "​",
            "style": "IPY_MODEL_e530a9d79e5740f7b1c24a22aa548772",
            "value": " 5/5 [00:00&lt;00:00,  9.83 file/s]"
          }
        },
        "93c96546f59249b99a25333a1c06014b": {
          "model_module": "@jupyter-widgets/base",
          "model_name": "LayoutModel",
          "model_module_version": "1.2.0",
          "state": {
            "_model_module": "@jupyter-widgets/base",
            "_model_module_version": "1.2.0",
            "_model_name": "LayoutModel",
            "_view_count": null,
            "_view_module": "@jupyter-widgets/base",
            "_view_module_version": "1.2.0",
            "_view_name": "LayoutView",
            "align_content": null,
            "align_items": null,
            "align_self": null,
            "border": null,
            "bottom": null,
            "display": null,
            "flex": null,
            "flex_flow": null,
            "grid_area": null,
            "grid_auto_columns": null,
            "grid_auto_flow": null,
            "grid_auto_rows": null,
            "grid_column": null,
            "grid_gap": null,
            "grid_row": null,
            "grid_template_areas": null,
            "grid_template_columns": null,
            "grid_template_rows": null,
            "height": null,
            "justify_content": null,
            "justify_items": null,
            "left": null,
            "margin": null,
            "max_height": null,
            "max_width": null,
            "min_height": null,
            "min_width": null,
            "object_fit": null,
            "object_position": null,
            "order": null,
            "overflow": null,
            "overflow_x": null,
            "overflow_y": null,
            "padding": null,
            "right": null,
            "top": null,
            "visibility": null,
            "width": null
          }
        },
        "1e9a7b30f86f4d918020c3b1909c62a5": {
          "model_module": "@jupyter-widgets/base",
          "model_name": "LayoutModel",
          "model_module_version": "1.2.0",
          "state": {
            "_model_module": "@jupyter-widgets/base",
            "_model_module_version": "1.2.0",
            "_model_name": "LayoutModel",
            "_view_count": null,
            "_view_module": "@jupyter-widgets/base",
            "_view_module_version": "1.2.0",
            "_view_name": "LayoutView",
            "align_content": null,
            "align_items": null,
            "align_self": null,
            "border": null,
            "bottom": null,
            "display": null,
            "flex": null,
            "flex_flow": null,
            "grid_area": null,
            "grid_auto_columns": null,
            "grid_auto_flow": null,
            "grid_auto_rows": null,
            "grid_column": null,
            "grid_gap": null,
            "grid_row": null,
            "grid_template_areas": null,
            "grid_template_columns": null,
            "grid_template_rows": null,
            "height": null,
            "justify_content": null,
            "justify_items": null,
            "left": null,
            "margin": null,
            "max_height": null,
            "max_width": null,
            "min_height": null,
            "min_width": null,
            "object_fit": null,
            "object_position": null,
            "order": null,
            "overflow": null,
            "overflow_x": null,
            "overflow_y": null,
            "padding": null,
            "right": null,
            "top": null,
            "visibility": null,
            "width": null
          }
        },
        "8e62a4e0fbad45cabaa2480c4a3155d0": {
          "model_module": "@jupyter-widgets/controls",
          "model_name": "DescriptionStyleModel",
          "model_module_version": "1.5.0",
          "state": {
            "_model_module": "@jupyter-widgets/controls",
            "_model_module_version": "1.5.0",
            "_model_name": "DescriptionStyleModel",
            "_view_count": null,
            "_view_module": "@jupyter-widgets/base",
            "_view_module_version": "1.2.0",
            "_view_name": "StyleView",
            "description_width": ""
          }
        },
        "fd1204bd33994f92ba82b6fec574e317": {
          "model_module": "@jupyter-widgets/base",
          "model_name": "LayoutModel",
          "model_module_version": "1.2.0",
          "state": {
            "_model_module": "@jupyter-widgets/base",
            "_model_module_version": "1.2.0",
            "_model_name": "LayoutModel",
            "_view_count": null,
            "_view_module": "@jupyter-widgets/base",
            "_view_module_version": "1.2.0",
            "_view_name": "LayoutView",
            "align_content": null,
            "align_items": null,
            "align_self": null,
            "border": null,
            "bottom": null,
            "display": null,
            "flex": null,
            "flex_flow": null,
            "grid_area": null,
            "grid_auto_columns": null,
            "grid_auto_flow": null,
            "grid_auto_rows": null,
            "grid_column": null,
            "grid_gap": null,
            "grid_row": null,
            "grid_template_areas": null,
            "grid_template_columns": null,
            "grid_template_rows": null,
            "height": null,
            "justify_content": null,
            "justify_items": null,
            "left": null,
            "margin": null,
            "max_height": null,
            "max_width": null,
            "min_height": null,
            "min_width": null,
            "object_fit": null,
            "object_position": null,
            "order": null,
            "overflow": null,
            "overflow_x": null,
            "overflow_y": null,
            "padding": null,
            "right": null,
            "top": null,
            "visibility": null,
            "width": null
          }
        },
        "7e9a4bc531234cda8e3686d33e9c8f25": {
          "model_module": "@jupyter-widgets/controls",
          "model_name": "ProgressStyleModel",
          "model_module_version": "1.5.0",
          "state": {
            "_model_module": "@jupyter-widgets/controls",
            "_model_module_version": "1.5.0",
            "_model_name": "ProgressStyleModel",
            "_view_count": null,
            "_view_module": "@jupyter-widgets/base",
            "_view_module_version": "1.2.0",
            "_view_name": "StyleView",
            "bar_color": null,
            "description_width": ""
          }
        },
        "f43733a2b64646ffa595af8543790919": {
          "model_module": "@jupyter-widgets/base",
          "model_name": "LayoutModel",
          "model_module_version": "1.2.0",
          "state": {
            "_model_module": "@jupyter-widgets/base",
            "_model_module_version": "1.2.0",
            "_model_name": "LayoutModel",
            "_view_count": null,
            "_view_module": "@jupyter-widgets/base",
            "_view_module_version": "1.2.0",
            "_view_name": "LayoutView",
            "align_content": null,
            "align_items": null,
            "align_self": null,
            "border": null,
            "bottom": null,
            "display": null,
            "flex": null,
            "flex_flow": null,
            "grid_area": null,
            "grid_auto_columns": null,
            "grid_auto_flow": null,
            "grid_auto_rows": null,
            "grid_column": null,
            "grid_gap": null,
            "grid_row": null,
            "grid_template_areas": null,
            "grid_template_columns": null,
            "grid_template_rows": null,
            "height": null,
            "justify_content": null,
            "justify_items": null,
            "left": null,
            "margin": null,
            "max_height": null,
            "max_width": null,
            "min_height": null,
            "min_width": null,
            "object_fit": null,
            "object_position": null,
            "order": null,
            "overflow": null,
            "overflow_x": null,
            "overflow_y": null,
            "padding": null,
            "right": null,
            "top": null,
            "visibility": null,
            "width": null
          }
        },
        "e530a9d79e5740f7b1c24a22aa548772": {
          "model_module": "@jupyter-widgets/controls",
          "model_name": "DescriptionStyleModel",
          "model_module_version": "1.5.0",
          "state": {
            "_model_module": "@jupyter-widgets/controls",
            "_model_module_version": "1.5.0",
            "_model_name": "DescriptionStyleModel",
            "_view_count": null,
            "_view_module": "@jupyter-widgets/base",
            "_view_module_version": "1.2.0",
            "_view_name": "StyleView",
            "description_width": ""
          }
        }
      }
    }
  },
  "nbformat": 4,
  "nbformat_minor": 0
}